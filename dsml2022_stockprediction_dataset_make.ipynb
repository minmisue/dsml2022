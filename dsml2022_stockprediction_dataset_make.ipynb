{
 "cells": [
  {
   "cell_type": "code",
   "execution_count": 1,
   "id": "e074fb1f",
   "metadata": {},
   "outputs": [
    {
     "name": "stdout",
     "output_type": "stream",
     "text": [
      "Defaulting to user installation because normal site-packages is not writeable\n",
      "Requirement already satisfied: pymysql in /home/rlaalswn1024/.local/lib/python3.8/site-packages (1.0.2)\n",
      "Defaulting to user installation because normal site-packages is not writeable\n",
      "Requirement already satisfied: sqlalchemy in /package/anaconda3.8/lib/python3.8/site-packages (1.4.27)\n",
      "Requirement already satisfied: greenlet!=0.4.17 in /package/anaconda3.8/lib/python3.8/site-packages (from sqlalchemy) (1.1.1)\n"
     ]
    }
   ],
   "source": [
    "!pip install pymysql\n",
    "!pip install sqlalchemy"
   ]
  },
  {
   "cell_type": "code",
   "execution_count": 2,
   "id": "b50b25c6",
   "metadata": {},
   "outputs": [],
   "source": [
    "import os\n",
    "import time\n",
    "import pandas as pd\n",
    "import numpy as np\n",
    "import datetime\n",
    "import pymysql\n",
    "from sqlalchemy import create_engine\n",
    "import FinanceDataReader as fdr\n",
    "from tqdm import tqdm"
   ]
  },
  {
   "cell_type": "code",
   "execution_count": 3,
   "id": "09dc7615",
   "metadata": {},
   "outputs": [],
   "source": [
    "code_data = pd.read_csv('./raw_data.csv', index_col = 0)"
   ]
  },
  {
   "cell_type": "markdown",
   "id": "6994f6ac",
   "metadata": {},
   "source": [
    "code_date['상장일'] dtype을 object → datetime 변경"
   ]
  },
  {
   "cell_type": "code",
   "execution_count": 4,
   "id": "d14ff461",
   "metadata": {},
   "outputs": [],
   "source": [
    "code_data['상장일'] = pd.to_datetime(code_data['상장일'])\n",
    "code_data['종목코드'] = code_data['종목코드'].apply(lambda x: str(x).zfill(6))"
   ]
  },
  {
   "cell_type": "code",
   "execution_count": 5,
   "id": "cb56f40b",
   "metadata": {
    "scrolled": true
   },
   "outputs": [
    {
     "data": {
      "text/html": [
       "<div>\n",
       "<style scoped>\n",
       "    .dataframe tbody tr th:only-of-type {\n",
       "        vertical-align: middle;\n",
       "    }\n",
       "\n",
       "    .dataframe tbody tr th {\n",
       "        vertical-align: top;\n",
       "    }\n",
       "\n",
       "    .dataframe thead th {\n",
       "        text-align: right;\n",
       "    }\n",
       "</style>\n",
       "<table border=\"1\" class=\"dataframe\">\n",
       "  <thead>\n",
       "    <tr style=\"text-align: right;\">\n",
       "      <th></th>\n",
       "      <th>회사명</th>\n",
       "      <th>종목코드</th>\n",
       "      <th>업종</th>\n",
       "      <th>주요제품</th>\n",
       "      <th>상장일</th>\n",
       "      <th>결산월</th>\n",
       "      <th>대표자명</th>\n",
       "      <th>홈페이지</th>\n",
       "      <th>지역</th>\n",
       "    </tr>\n",
       "  </thead>\n",
       "  <tbody>\n",
       "    <tr>\n",
       "      <th>0</th>\n",
       "      <td>DL</td>\n",
       "      <td>000210</td>\n",
       "      <td>기타 금융업</td>\n",
       "      <td>지주회사</td>\n",
       "      <td>1976-02-02</td>\n",
       "      <td>12월</td>\n",
       "      <td>전병욱</td>\n",
       "      <td>http://www.dlholdings.co.kr</td>\n",
       "      <td>서울특별시</td>\n",
       "    </tr>\n",
       "    <tr>\n",
       "      <th>1</th>\n",
       "      <td>DRB동일</td>\n",
       "      <td>004840</td>\n",
       "      <td>고무제품 제조업</td>\n",
       "      <td>고무벨트(V벨트,콘베이어벨트,평벨트),프라스틱제품 제조,판매</td>\n",
       "      <td>1976-05-21</td>\n",
       "      <td>12월</td>\n",
       "      <td>류영식</td>\n",
       "      <td>http://drbworld.com</td>\n",
       "      <td>부산광역시</td>\n",
       "    </tr>\n",
       "    <tr>\n",
       "      <th>2</th>\n",
       "      <td>DSR</td>\n",
       "      <td>155660</td>\n",
       "      <td>1차 비철금속 제조업</td>\n",
       "      <td>합섬섬유로프</td>\n",
       "      <td>2013-05-15</td>\n",
       "      <td>12월</td>\n",
       "      <td>홍석빈</td>\n",
       "      <td>http://www.dsr.com</td>\n",
       "      <td>부산광역시</td>\n",
       "    </tr>\n",
       "    <tr>\n",
       "      <th>3</th>\n",
       "      <td>GS</td>\n",
       "      <td>078930</td>\n",
       "      <td>기타 금융업</td>\n",
       "      <td>지주회사/부동산 임대</td>\n",
       "      <td>2004-08-05</td>\n",
       "      <td>12월</td>\n",
       "      <td>허태수, 홍순기 (각자 대표이사)</td>\n",
       "      <td>NaN</td>\n",
       "      <td>서울특별시</td>\n",
       "    </tr>\n",
       "    <tr>\n",
       "      <th>4</th>\n",
       "      <td>GS글로벌</td>\n",
       "      <td>001250</td>\n",
       "      <td>상품 종합 도매업</td>\n",
       "      <td>수출입업(시멘트,철강금속,전기전자,섬유,기계화학),상품중개,광업,채석업/하수처리 서...</td>\n",
       "      <td>1976-06-26</td>\n",
       "      <td>12월</td>\n",
       "      <td>김태형</td>\n",
       "      <td>http://www.gsgcorp.com</td>\n",
       "      <td>서울특별시</td>\n",
       "    </tr>\n",
       "  </tbody>\n",
       "</table>\n",
       "</div>"
      ],
      "text/plain": [
       "     회사명    종목코드           업종  \\\n",
       "0     DL  000210       기타 금융업   \n",
       "1  DRB동일  004840     고무제품 제조업   \n",
       "2    DSR  155660  1차 비철금속 제조업   \n",
       "3     GS  078930       기타 금융업   \n",
       "4  GS글로벌  001250    상품 종합 도매업   \n",
       "\n",
       "                                                주요제품        상장일  결산월  \\\n",
       "0                                               지주회사 1976-02-02  12월   \n",
       "1                  고무벨트(V벨트,콘베이어벨트,평벨트),프라스틱제품 제조,판매 1976-05-21  12월   \n",
       "2                                             합섬섬유로프 2013-05-15  12월   \n",
       "3                                        지주회사/부동산 임대 2004-08-05  12월   \n",
       "4  수출입업(시멘트,철강금속,전기전자,섬유,기계화학),상품중개,광업,채석업/하수처리 서... 1976-06-26  12월   \n",
       "\n",
       "                 대표자명                         홈페이지     지역  \n",
       "0                 전병욱  http://www.dlholdings.co.kr  서울특별시  \n",
       "1                 류영식          http://drbworld.com  부산광역시  \n",
       "2                 홍석빈           http://www.dsr.com  부산광역시  \n",
       "3  허태수, 홍순기 (각자 대표이사)                          NaN  서울특별시  \n",
       "4                 김태형       http://www.gsgcorp.com  서울특별시  "
      ]
     },
     "execution_count": 5,
     "metadata": {},
     "output_type": "execute_result"
    }
   ],
   "source": [
    "code_data[:5]"
   ]
  },
  {
   "cell_type": "markdown",
   "id": "bb86a5c9",
   "metadata": {},
   "source": [
    "# 과제 1"
   ]
  },
  {
   "cell_type": "markdown",
   "id": "938b44f4",
   "metadata": {},
   "source": [
    "데이터를 dataframe에서 list로 변환"
   ]
  },
  {
   "cell_type": "code",
   "execution_count": 7,
   "id": "766ee7e5",
   "metadata": {},
   "outputs": [],
   "source": [
    "lst_stock = code_data.values.tolist()"
   ]
  },
  {
   "cell_type": "markdown",
   "id": "05c7f612",
   "metadata": {},
   "source": [
    "dictionary 사용"
   ]
  },
  {
   "cell_type": "code",
   "execution_count": 8,
   "id": "59d11888",
   "metadata": {},
   "outputs": [],
   "source": [
    "dic_code2company = {}\n",
    "for row in lst_stock:\n",
    "    company, code, date = row[0], row[1], row[4]\n",
    "    if date <= datetime.datetime(2018, 1, 2):\n",
    "        dic_code2company[code] = company"
   ]
  },
  {
   "cell_type": "code",
   "execution_count": 9,
   "id": "53fe7eeb",
   "metadata": {},
   "outputs": [],
   "source": [
    "OF = open('assignment1_sql.txt', 'w', encoding = 'utf-8')\n",
    "for code in dic_code2company.keys():\n",
    "    data = '{}\\t{}\\n'.format(code, dic_code2company[code])\n",
    "    OF.write(data)\n",
    "OF.close()"
   ]
  },
  {
   "cell_type": "markdown",
   "id": "fcdf3e65",
   "metadata": {},
   "source": [
    "# 과제 2"
   ]
  },
  {
   "cell_type": "code",
   "execution_count": 10,
   "id": "1b11ae36",
   "metadata": {
    "collapsed": true
   },
   "outputs": [
    {
     "ename": "OperationalError",
     "evalue": "(1049, \"Unknown database 'stock'\")",
     "output_type": "error",
     "traceback": [
      "\u001b[0;31m---------------------------------------------------------------------------\u001b[0m",
      "\u001b[0;31mOperationalError\u001b[0m                          Traceback (most recent call last)",
      "\u001b[0;32m/tmp/ipykernel_8639/4181641625.py\u001b[0m in \u001b[0;36m<module>\u001b[0;34m\u001b[0m\n\u001b[0;32m----> 1\u001b[0;31m db_dsml = pymysql.connect(\n\u001b[0m\u001b[1;32m      2\u001b[0m     \u001b[0mhost\u001b[0m \u001b[0;34m=\u001b[0m \u001b[0;34m'localhost'\u001b[0m\u001b[0;34m,\u001b[0m\u001b[0;34m\u001b[0m\u001b[0;34m\u001b[0m\u001b[0m\n\u001b[1;32m      3\u001b[0m     \u001b[0mport\u001b[0m \u001b[0;34m=\u001b[0m \u001b[0;36m3306\u001b[0m\u001b[0;34m,\u001b[0m\u001b[0;34m\u001b[0m\u001b[0;34m\u001b[0m\u001b[0m\n\u001b[1;32m      4\u001b[0m     \u001b[0muser\u001b[0m \u001b[0;34m=\u001b[0m \u001b[0;34m'stock_user'\u001b[0m\u001b[0;34m,\u001b[0m\u001b[0;34m\u001b[0m\u001b[0;34m\u001b[0m\u001b[0m\n\u001b[1;32m      5\u001b[0m     \u001b[0mpasswd\u001b[0m \u001b[0;34m=\u001b[0m \u001b[0;34m'bigdata'\u001b[0m\u001b[0;34m,\u001b[0m\u001b[0;34m\u001b[0m\u001b[0;34m\u001b[0m\u001b[0m\n",
      "\u001b[0;32m~/.local/lib/python3.8/site-packages/pymysql/connections.py\u001b[0m in \u001b[0;36m__init__\u001b[0;34m(self, user, password, host, database, unix_socket, port, charset, sql_mode, read_default_file, conv, use_unicode, client_flag, cursorclass, init_command, connect_timeout, read_default_group, autocommit, local_infile, max_allowed_packet, defer_connect, auth_plugin_map, read_timeout, write_timeout, bind_address, binary_prefix, program_name, server_public_key, ssl, ssl_ca, ssl_cert, ssl_disabled, ssl_key, ssl_verify_cert, ssl_verify_identity, compress, named_pipe, passwd, db)\u001b[0m\n\u001b[1;32m    351\u001b[0m             \u001b[0mself\u001b[0m\u001b[0;34m.\u001b[0m\u001b[0m_sock\u001b[0m \u001b[0;34m=\u001b[0m \u001b[0;32mNone\u001b[0m\u001b[0;34m\u001b[0m\u001b[0;34m\u001b[0m\u001b[0m\n\u001b[1;32m    352\u001b[0m         \u001b[0;32melse\u001b[0m\u001b[0;34m:\u001b[0m\u001b[0;34m\u001b[0m\u001b[0;34m\u001b[0m\u001b[0m\n\u001b[0;32m--> 353\u001b[0;31m             \u001b[0mself\u001b[0m\u001b[0;34m.\u001b[0m\u001b[0mconnect\u001b[0m\u001b[0;34m(\u001b[0m\u001b[0;34m)\u001b[0m\u001b[0;34m\u001b[0m\u001b[0;34m\u001b[0m\u001b[0m\n\u001b[0m\u001b[1;32m    354\u001b[0m \u001b[0;34m\u001b[0m\u001b[0m\n\u001b[1;32m    355\u001b[0m     \u001b[0;32mdef\u001b[0m \u001b[0m__enter__\u001b[0m\u001b[0;34m(\u001b[0m\u001b[0mself\u001b[0m\u001b[0;34m)\u001b[0m\u001b[0;34m:\u001b[0m\u001b[0;34m\u001b[0m\u001b[0;34m\u001b[0m\u001b[0m\n",
      "\u001b[0;32m~/.local/lib/python3.8/site-packages/pymysql/connections.py\u001b[0m in \u001b[0;36mconnect\u001b[0;34m(self, sock)\u001b[0m\n\u001b[1;32m    631\u001b[0m \u001b[0;34m\u001b[0m\u001b[0m\n\u001b[1;32m    632\u001b[0m             \u001b[0mself\u001b[0m\u001b[0;34m.\u001b[0m\u001b[0m_get_server_information\u001b[0m\u001b[0;34m(\u001b[0m\u001b[0;34m)\u001b[0m\u001b[0;34m\u001b[0m\u001b[0;34m\u001b[0m\u001b[0m\n\u001b[0;32m--> 633\u001b[0;31m             \u001b[0mself\u001b[0m\u001b[0;34m.\u001b[0m\u001b[0m_request_authentication\u001b[0m\u001b[0;34m(\u001b[0m\u001b[0;34m)\u001b[0m\u001b[0;34m\u001b[0m\u001b[0;34m\u001b[0m\u001b[0m\n\u001b[0m\u001b[1;32m    634\u001b[0m \u001b[0;34m\u001b[0m\u001b[0m\n\u001b[1;32m    635\u001b[0m             \u001b[0;32mif\u001b[0m \u001b[0mself\u001b[0m\u001b[0;34m.\u001b[0m\u001b[0msql_mode\u001b[0m \u001b[0;32mis\u001b[0m \u001b[0;32mnot\u001b[0m \u001b[0;32mNone\u001b[0m\u001b[0;34m:\u001b[0m\u001b[0;34m\u001b[0m\u001b[0;34m\u001b[0m\u001b[0m\n",
      "\u001b[0;32m~/.local/lib/python3.8/site-packages/pymysql/connections.py\u001b[0m in \u001b[0;36m_request_authentication\u001b[0;34m(self)\u001b[0m\n\u001b[1;32m    905\u001b[0m \u001b[0;34m\u001b[0m\u001b[0m\n\u001b[1;32m    906\u001b[0m         \u001b[0mself\u001b[0m\u001b[0;34m.\u001b[0m\u001b[0mwrite_packet\u001b[0m\u001b[0;34m(\u001b[0m\u001b[0mdata\u001b[0m\u001b[0;34m)\u001b[0m\u001b[0;34m\u001b[0m\u001b[0;34m\u001b[0m\u001b[0m\n\u001b[0;32m--> 907\u001b[0;31m         \u001b[0mauth_packet\u001b[0m \u001b[0;34m=\u001b[0m \u001b[0mself\u001b[0m\u001b[0;34m.\u001b[0m\u001b[0m_read_packet\u001b[0m\u001b[0;34m(\u001b[0m\u001b[0;34m)\u001b[0m\u001b[0;34m\u001b[0m\u001b[0;34m\u001b[0m\u001b[0m\n\u001b[0m\u001b[1;32m    908\u001b[0m \u001b[0;34m\u001b[0m\u001b[0m\n\u001b[1;32m    909\u001b[0m         \u001b[0;31m# if authentication method isn't accepted the first byte\u001b[0m\u001b[0;34m\u001b[0m\u001b[0;34m\u001b[0m\u001b[0;34m\u001b[0m\u001b[0m\n",
      "\u001b[0;32m~/.local/lib/python3.8/site-packages/pymysql/connections.py\u001b[0m in \u001b[0;36m_read_packet\u001b[0;34m(self, packet_type)\u001b[0m\n\u001b[1;32m    723\u001b[0m             \u001b[0;32mif\u001b[0m \u001b[0mself\u001b[0m\u001b[0;34m.\u001b[0m\u001b[0m_result\u001b[0m \u001b[0;32mis\u001b[0m \u001b[0;32mnot\u001b[0m \u001b[0;32mNone\u001b[0m \u001b[0;32mand\u001b[0m \u001b[0mself\u001b[0m\u001b[0;34m.\u001b[0m\u001b[0m_result\u001b[0m\u001b[0;34m.\u001b[0m\u001b[0munbuffered_active\u001b[0m \u001b[0;32mis\u001b[0m \u001b[0;32mTrue\u001b[0m\u001b[0;34m:\u001b[0m\u001b[0;34m\u001b[0m\u001b[0;34m\u001b[0m\u001b[0m\n\u001b[1;32m    724\u001b[0m                 \u001b[0mself\u001b[0m\u001b[0;34m.\u001b[0m\u001b[0m_result\u001b[0m\u001b[0;34m.\u001b[0m\u001b[0munbuffered_active\u001b[0m \u001b[0;34m=\u001b[0m \u001b[0;32mFalse\u001b[0m\u001b[0;34m\u001b[0m\u001b[0;34m\u001b[0m\u001b[0m\n\u001b[0;32m--> 725\u001b[0;31m             \u001b[0mpacket\u001b[0m\u001b[0;34m.\u001b[0m\u001b[0mraise_for_error\u001b[0m\u001b[0;34m(\u001b[0m\u001b[0;34m)\u001b[0m\u001b[0;34m\u001b[0m\u001b[0;34m\u001b[0m\u001b[0m\n\u001b[0m\u001b[1;32m    726\u001b[0m         \u001b[0;32mreturn\u001b[0m \u001b[0mpacket\u001b[0m\u001b[0;34m\u001b[0m\u001b[0;34m\u001b[0m\u001b[0m\n\u001b[1;32m    727\u001b[0m \u001b[0;34m\u001b[0m\u001b[0m\n",
      "\u001b[0;32m~/.local/lib/python3.8/site-packages/pymysql/protocol.py\u001b[0m in \u001b[0;36mraise_for_error\u001b[0;34m(self)\u001b[0m\n\u001b[1;32m    219\u001b[0m         \u001b[0;32mif\u001b[0m \u001b[0mDEBUG\u001b[0m\u001b[0;34m:\u001b[0m\u001b[0;34m\u001b[0m\u001b[0;34m\u001b[0m\u001b[0m\n\u001b[1;32m    220\u001b[0m             \u001b[0mprint\u001b[0m\u001b[0;34m(\u001b[0m\u001b[0;34m\"errno =\"\u001b[0m\u001b[0;34m,\u001b[0m \u001b[0merrno\u001b[0m\u001b[0;34m)\u001b[0m\u001b[0;34m\u001b[0m\u001b[0;34m\u001b[0m\u001b[0m\n\u001b[0;32m--> 221\u001b[0;31m         \u001b[0merr\u001b[0m\u001b[0;34m.\u001b[0m\u001b[0mraise_mysql_exception\u001b[0m\u001b[0;34m(\u001b[0m\u001b[0mself\u001b[0m\u001b[0;34m.\u001b[0m\u001b[0m_data\u001b[0m\u001b[0;34m)\u001b[0m\u001b[0;34m\u001b[0m\u001b[0;34m\u001b[0m\u001b[0m\n\u001b[0m\u001b[1;32m    222\u001b[0m \u001b[0;34m\u001b[0m\u001b[0m\n\u001b[1;32m    223\u001b[0m     \u001b[0;32mdef\u001b[0m \u001b[0mdump\u001b[0m\u001b[0;34m(\u001b[0m\u001b[0mself\u001b[0m\u001b[0;34m)\u001b[0m\u001b[0;34m:\u001b[0m\u001b[0;34m\u001b[0m\u001b[0;34m\u001b[0m\u001b[0m\n",
      "\u001b[0;32m~/.local/lib/python3.8/site-packages/pymysql/err.py\u001b[0m in \u001b[0;36mraise_mysql_exception\u001b[0;34m(data)\u001b[0m\n\u001b[1;32m    141\u001b[0m     \u001b[0;32mif\u001b[0m \u001b[0merrorclass\u001b[0m \u001b[0;32mis\u001b[0m \u001b[0;32mNone\u001b[0m\u001b[0;34m:\u001b[0m\u001b[0;34m\u001b[0m\u001b[0;34m\u001b[0m\u001b[0m\n\u001b[1;32m    142\u001b[0m         \u001b[0merrorclass\u001b[0m \u001b[0;34m=\u001b[0m \u001b[0mInternalError\u001b[0m \u001b[0;32mif\u001b[0m \u001b[0merrno\u001b[0m \u001b[0;34m<\u001b[0m \u001b[0;36m1000\u001b[0m \u001b[0;32melse\u001b[0m \u001b[0mOperationalError\u001b[0m\u001b[0;34m\u001b[0m\u001b[0;34m\u001b[0m\u001b[0m\n\u001b[0;32m--> 143\u001b[0;31m     \u001b[0;32mraise\u001b[0m \u001b[0merrorclass\u001b[0m\u001b[0;34m(\u001b[0m\u001b[0merrno\u001b[0m\u001b[0;34m,\u001b[0m \u001b[0merrval\u001b[0m\u001b[0;34m)\u001b[0m\u001b[0;34m\u001b[0m\u001b[0;34m\u001b[0m\u001b[0m\n\u001b[0m",
      "\u001b[0;31mOperationalError\u001b[0m: (1049, \"Unknown database 'stock'\")"
     ]
    }
   ],
   "source": [
    "db_dsml = pymysql.connect(\n",
    "    host = 'localhost', \n",
    "    port = 3306, \n",
    "    user = 'stock_user', \n",
    "    passwd = 'bigdata', \n",
    "    db = 'stock', \n",
    "    charset = 'utf8'\n",
    ")\n",
    "\n",
    "cursor = db_dsml.cursor()"
   ]
  },
  {
   "cell_type": "code",
   "execution_count": 11,
   "id": "98cd667b",
   "metadata": {},
   "outputs": [
    {
     "name": "stderr",
     "output_type": "stream",
     "text": [
      "100%|█████████████████████████████████████████| 1999/1999 [00:31<00:00, 63.38it/s]\n"
     ]
    }
   ],
   "source": [
    "dic_code2date = {}\n",
    "\n",
    "OF = open('assignment2_sql.txt', 'w', encoding = 'utf-8')\n",
    "for code in tqdm(dic_code2company.keys()):\n",
    "    sql_query = '''\n",
    "                SELECT *\n",
    "                FROM stock_{}\n",
    "                WHERE Date\n",
    "                BETWEEN '2018-01-01' AND '2021-12-31'\n",
    "                '''.format(code)\n",
    "    stock = pd.read_sql(sql = sql_query, con = db_dsml)\n",
    "    lst_stock = stock.values.tolist()\n",
    "    \n",
    "    for row in lst_stock:\n",
    "        if row[4] * row[5] >= 100000000000:\n",
    "            data = '{}\\t{}\\n'.format(code, row[0].strftime('%Y%m%d'))\n",
    "            OF.write(data)\n",
    "            if code not in dic_code2date.keys():\n",
    "                dic_code2date[code] = []\n",
    "                dic_code2date[code].append(row[0])\n",
    "            else:\n",
    "                dic_code2date[code].append(row[0])\n",
    "OF.close()"
   ]
  },
  {
   "cell_type": "markdown",
   "id": "b8826625",
   "metadata": {},
   "source": [
    "# 과제 3"
   ]
  },
  {
   "cell_type": "code",
   "execution_count": 11,
   "id": "8a9f99d1",
   "metadata": {},
   "outputs": [
    {
     "name": "stderr",
     "output_type": "stream",
     "text": [
      "100%|██████████| 1134/1134 [00:15<00:00, 71.16it/s]\n"
     ]
    }
   ],
   "source": [
    "OF = open('assignment3_sql.txt', 'w', encoding = 'utf-8')\n",
    "for code in tqdm(dic_code2date.keys()):\n",
    "    sql_query = '''\n",
    "                SELECT *\n",
    "                FROM stock_{}\n",
    "                WHERE Date\n",
    "                BETWEEN '2018-01-01' AND '2020-12-31'\n",
    "                '''.format(code)\n",
    "    stock = pd.read_sql(sql = sql_query, con = db_dsml)\n",
    "    lst_stock = stock.values.tolist()\n",
    "    \n",
    "    for i, row_lst_stock in enumerate(lst_stock):\n",
    "        # 예외 처리\n",
    "        if (i < 9) or (i >= len(lst_stock)-1):\n",
    "            continue  \n",
    "        date = row_lst_stock[0]\n",
    "        if date not in dic_code2date[code]:\n",
    "            continue\n",
    "        \n",
    "        # 11 days data\n",
    "        sub_stock = lst_stock[i-9:i+1]\n",
    "        lst_data = []\n",
    "        for row_sub_stock in sub_stock:\n",
    "            open, high, low, close, volume = row_sub_stock[1:6]\n",
    "            trading_value = close * volume\n",
    "            lst_data += [open, high, low, close, trading_value]\n",
    "            del open\n",
    "        data = ','.join(map(str, lst_data))\n",
    "        \n",
    "        # label\n",
    "        label = int(lst_stock[i+1][-1] >= 0.02)\n",
    "        \n",
    "        result = '{}\\t{}\\t{}\\t{}\\n'.format(code, date.strftime(\"%Y%m%d\"), data, label)\n",
    "        OF.write(result)\n",
    "OF.close()"
   ]
  },
  {
   "cell_type": "markdown",
   "id": "c5c2247e",
   "metadata": {},
   "source": [
    "# 과제 3-2"
   ]
  },
  {
   "cell_type": "code",
   "execution_count": 12,
   "id": "cc0fa4b9",
   "metadata": {},
   "outputs": [
    {
     "name": "stderr",
     "output_type": "stream",
     "text": [
      "100%|██████████| 1134/1134 [00:04<00:00, 246.06it/s]\n"
     ]
    }
   ],
   "source": [
    "OF = open('assignment3-2_sql.txt', 'w', encoding = 'utf-8')\n",
    "for code in tqdm(dic_code2date.keys()):\n",
    "    sql_query = '''\n",
    "                SELECT *\n",
    "                FROM stock_{}\n",
    "                WHERE Date\n",
    "                BETWEEN '2021-01-01' AND '2021-06-30'\n",
    "                '''.format(code)\n",
    "    stock = pd.read_sql(sql = sql_query, con = db_dsml)\n",
    "    lst_stock = stock.values.tolist()\n",
    "    \n",
    "    for i, row_lst_stock in enumerate(lst_stock):\n",
    "        # 예외 처리\n",
    "        if (i < 9) or (i >= len(lst_stock)-1):\n",
    "            continue  \n",
    "        date = row_lst_stock[0]\n",
    "        if date not in dic_code2date[code]:\n",
    "            continue\n",
    "        \n",
    "        # 11 days data\n",
    "        sub_stock = lst_stock[i-9:i+1]\n",
    "        lst_data = []\n",
    "        for row_sub_stock in sub_stock:\n",
    "            open, high, low, close, volume = row_sub_stock[1:6]\n",
    "            trading_value = close * volume\n",
    "            lst_data += [open, high, low, close, trading_value]\n",
    "            del open\n",
    "        data = ','.join(map(str, lst_data))\n",
    "        \n",
    "        # label\n",
    "        label = int(lst_stock[i+1][-1] >= 0.02)\n",
    "        \n",
    "        result = '{}\\t{}\\t{}\\t{}\\n'.format(code, date.strftime(\"%Y%m%d\"), data, label)\n",
    "        OF.write(result)\n",
    "OF.close()"
   ]
  },
  {
   "cell_type": "code",
   "execution_count": null,
   "id": "9d10d52b",
   "metadata": {},
   "outputs": [],
   "source": []
  }
 ],
 "metadata": {
  "kernelspec": {
   "display_name": "Python 3 (ipykernel)",
   "language": "python",
   "name": "python3"
  },
  "language_info": {
   "codemirror_mode": {
    "name": "ipython",
    "version": 3
   },
   "file_extension": ".py",
   "mimetype": "text/x-python",
   "name": "python",
   "nbconvert_exporter": "python",
   "pygments_lexer": "ipython3",
   "version": "3.8.2"
  },
  "toc": {
   "base_numbering": 1,
   "nav_menu": {},
   "number_sections": true,
   "sideBar": true,
   "skip_h1_title": false,
   "title_cell": "Table of Contents",
   "title_sidebar": "Contents",
   "toc_cell": false,
   "toc_position": {},
   "toc_section_display": true,
   "toc_window_display": false
  }
 },
 "nbformat": 4,
 "nbformat_minor": 5
}
